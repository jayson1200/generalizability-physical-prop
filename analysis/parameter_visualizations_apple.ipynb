{
 "cells": [
  {
   "cell_type": "code",
   "execution_count": 1,
   "id": "initial_id",
   "metadata": {
    "ExecuteTime": {
     "end_time": "2025-07-14T20:38:35.168524Z",
     "start_time": "2025-07-14T20:38:25.193097Z"
    },
    "collapsed": true
   },
   "outputs": [],
   "source": [
    "import pandas\n",
    "import cv2\n",
    "from mpl_toolkits.mplot3d import Axes3D\n",
    "\n",
    "apple_data_location = \"/iliad2/u/jmeribe/projects/vlm-scaffolding/varying_apple_params.csv\"\n",
    "\n",
    "import matplotlib.pyplot as plt\n",
    "import pandas as pd\n",
    "import numpy as np\n",
    "from IPython.display import Video, display\n",
    "import os"
   ]
  },
  {
   "cell_type": "code",
   "execution_count": 2,
   "id": "58cdbf0d55d8f88f",
   "metadata": {
    "ExecuteTime": {
     "end_time": "2025-07-14T20:38:35.270804Z",
     "start_time": "2025-07-14T20:38:35.194926Z"
    }
   },
   "outputs": [
    {
     "data": {
      "text/html": [
       "<div>\n",
       "<style scoped>\n",
       "    .dataframe tbody tr th:only-of-type {\n",
       "        vertical-align: middle;\n",
       "    }\n",
       "\n",
       "    .dataframe tbody tr th {\n",
       "        vertical-align: top;\n",
       "    }\n",
       "\n",
       "    .dataframe thead th {\n",
       "        text-align: right;\n",
       "    }\n",
       "</style>\n",
       "<table border=\"1\" class=\"dataframe\">\n",
       "  <thead>\n",
       "    <tr style=\"text-align: right;\">\n",
       "      <th></th>\n",
       "      <th>friction</th>\n",
       "      <th>density</th>\n",
       "      <th>center_of_mass</th>\n",
       "      <th>scale</th>\n",
       "      <th>max_contact_force</th>\n",
       "      <th>success_rate</th>\n",
       "    </tr>\n",
       "  </thead>\n",
       "  <tbody>\n",
       "    <tr>\n",
       "      <th>0</th>\n",
       "      <td>0.01 0 0</td>\n",
       "      <td>NaN</td>\n",
       "      <td>NaN</td>\n",
       "      <td>NaN</td>\n",
       "      <td>-2431.8174  5022.6743  6944.397</td>\n",
       "      <td>0.950</td>\n",
       "    </tr>\n",
       "    <tr>\n",
       "      <th>1</th>\n",
       "      <td>0.02 0 0</td>\n",
       "      <td>NaN</td>\n",
       "      <td>NaN</td>\n",
       "      <td>NaN</td>\n",
       "      <td>-2781.031     253.50186 -5741.348</td>\n",
       "      <td>0.931</td>\n",
       "    </tr>\n",
       "    <tr>\n",
       "      <th>2</th>\n",
       "      <td>0.03 0 0</td>\n",
       "      <td>NaN</td>\n",
       "      <td>NaN</td>\n",
       "      <td>NaN</td>\n",
       "      <td>-3846.3604     -33.939735 -7225.048</td>\n",
       "      <td>0.936</td>\n",
       "    </tr>\n",
       "    <tr>\n",
       "      <th>3</th>\n",
       "      <td>0.04 0 0</td>\n",
       "      <td>NaN</td>\n",
       "      <td>NaN</td>\n",
       "      <td>NaN</td>\n",
       "      <td>668.4535 -2621.6626 -5214.643</td>\n",
       "      <td>0.943</td>\n",
       "    </tr>\n",
       "    <tr>\n",
       "      <th>4</th>\n",
       "      <td>0.05 0 0</td>\n",
       "      <td>NaN</td>\n",
       "      <td>NaN</td>\n",
       "      <td>NaN</td>\n",
       "      <td>-1318.8429 -2594.3325 -5857.198</td>\n",
       "      <td>0.942</td>\n",
       "    </tr>\n",
       "    <tr>\n",
       "      <th>5</th>\n",
       "      <td>0.1 0 0</td>\n",
       "      <td>NaN</td>\n",
       "      <td>NaN</td>\n",
       "      <td>NaN</td>\n",
       "      <td>-2372.3662 -1718.6743 -5248.707</td>\n",
       "      <td>0.955</td>\n",
       "    </tr>\n",
       "    <tr>\n",
       "      <th>6</th>\n",
       "      <td>0.2 0 0</td>\n",
       "      <td>NaN</td>\n",
       "      <td>NaN</td>\n",
       "      <td>NaN</td>\n",
       "      <td>-1553.9352 -3724.0984 -5756.239</td>\n",
       "      <td>0.963</td>\n",
       "    </tr>\n",
       "    <tr>\n",
       "      <th>7</th>\n",
       "      <td>0.3 0 0</td>\n",
       "      <td>NaN</td>\n",
       "      <td>NaN</td>\n",
       "      <td>NaN</td>\n",
       "      <td>-601.0554 -5064.7344 -2755.0515</td>\n",
       "      <td>0.956</td>\n",
       "    </tr>\n",
       "    <tr>\n",
       "      <th>8</th>\n",
       "      <td>0.4 0 0</td>\n",
       "      <td>NaN</td>\n",
       "      <td>NaN</td>\n",
       "      <td>NaN</td>\n",
       "      <td>-1560.0071  -6101.733    -509.81445</td>\n",
       "      <td>0.970</td>\n",
       "    </tr>\n",
       "    <tr>\n",
       "      <th>9</th>\n",
       "      <td>0.5 0 0</td>\n",
       "      <td>NaN</td>\n",
       "      <td>NaN</td>\n",
       "      <td>NaN</td>\n",
       "      <td>10451.619   -1741.5686 -11772.067</td>\n",
       "      <td>0.973</td>\n",
       "    </tr>\n",
       "  </tbody>\n",
       "</table>\n",
       "</div>"
      ],
      "text/plain": [
       "   friction  density center_of_mass  scale  \\\n",
       "0  0.01 0 0      NaN            NaN    NaN   \n",
       "1  0.02 0 0      NaN            NaN    NaN   \n",
       "2  0.03 0 0      NaN            NaN    NaN   \n",
       "3  0.04 0 0      NaN            NaN    NaN   \n",
       "4  0.05 0 0      NaN            NaN    NaN   \n",
       "5   0.1 0 0      NaN            NaN    NaN   \n",
       "6   0.2 0 0      NaN            NaN    NaN   \n",
       "7   0.3 0 0      NaN            NaN    NaN   \n",
       "8   0.4 0 0      NaN            NaN    NaN   \n",
       "9   0.5 0 0      NaN            NaN    NaN   \n",
       "\n",
       "                        max_contact_force  success_rate  \n",
       "0        -2431.8174  5022.6743  6944.397          0.950  \n",
       "1     -2781.031     253.50186 -5741.348           0.931  \n",
       "2  -3846.3604     -33.939735 -7225.048            0.936  \n",
       "3          668.4535 -2621.6626 -5214.643          0.943  \n",
       "4        -1318.8429 -2594.3325 -5857.198          0.942  \n",
       "5        -2372.3662 -1718.6743 -5248.707          0.955  \n",
       "6        -1553.9352 -3724.0984 -5756.239          0.963  \n",
       "7         -601.0554 -5064.7344 -2755.0515         0.956  \n",
       "8     -1560.0071  -6101.733    -509.81445         0.970  \n",
       "9      10451.619   -1741.5686 -11772.067          0.973  "
      ]
     },
     "execution_count": 2,
     "metadata": {},
     "output_type": "execute_result"
    }
   ],
   "source": [
    "apple_df = pd.read_csv(apple_data_location)\n",
    "apple_df.head(10)"
   ]
  },
  {
   "cell_type": "code",
   "execution_count": 3,
   "id": "9e58516266e1a9ff",
   "metadata": {
    "ExecuteTime": {
     "end_time": "2025-07-14T20:38:35.362894Z",
     "start_time": "2025-07-14T20:38:35.294592Z"
    }
   },
   "outputs": [
    {
     "data": {
      "text/html": [
       "<div>\n",
       "<style scoped>\n",
       "    .dataframe tbody tr th:only-of-type {\n",
       "        vertical-align: middle;\n",
       "    }\n",
       "\n",
       "    .dataframe tbody tr th {\n",
       "        vertical-align: top;\n",
       "    }\n",
       "\n",
       "    .dataframe thead th {\n",
       "        text-align: right;\n",
       "    }\n",
       "</style>\n",
       "<table border=\"1\" class=\"dataframe\">\n",
       "  <thead>\n",
       "    <tr style=\"text-align: right;\">\n",
       "      <th></th>\n",
       "      <th>friction</th>\n",
       "      <th>success_rate</th>\n",
       "      <th>max_contact_force</th>\n",
       "    </tr>\n",
       "  </thead>\n",
       "  <tbody>\n",
       "    <tr>\n",
       "      <th>0</th>\n",
       "      <td>0.01 0 0</td>\n",
       "      <td>0.950</td>\n",
       "      <td>-2431.8174  5022.6743  6944.397</td>\n",
       "    </tr>\n",
       "    <tr>\n",
       "      <th>1</th>\n",
       "      <td>0.02 0 0</td>\n",
       "      <td>0.931</td>\n",
       "      <td>-2781.031     253.50186 -5741.348</td>\n",
       "    </tr>\n",
       "    <tr>\n",
       "      <th>2</th>\n",
       "      <td>0.03 0 0</td>\n",
       "      <td>0.936</td>\n",
       "      <td>-3846.3604     -33.939735 -7225.048</td>\n",
       "    </tr>\n",
       "    <tr>\n",
       "      <th>3</th>\n",
       "      <td>0.04 0 0</td>\n",
       "      <td>0.943</td>\n",
       "      <td>668.4535 -2621.6626 -5214.643</td>\n",
       "    </tr>\n",
       "    <tr>\n",
       "      <th>4</th>\n",
       "      <td>0.05 0 0</td>\n",
       "      <td>0.942</td>\n",
       "      <td>-1318.8429 -2594.3325 -5857.198</td>\n",
       "    </tr>\n",
       "  </tbody>\n",
       "</table>\n",
       "</div>"
      ],
      "text/plain": [
       "   friction  success_rate                       max_contact_force\n",
       "0  0.01 0 0         0.950        -2431.8174  5022.6743  6944.397 \n",
       "1  0.02 0 0         0.931     -2781.031     253.50186 -5741.348  \n",
       "2  0.03 0 0         0.936  -3846.3604     -33.939735 -7225.048   \n",
       "3  0.04 0 0         0.943          668.4535 -2621.6626 -5214.643 \n",
       "4  0.05 0 0         0.942        -1318.8429 -2594.3325 -5857.198 "
      ]
     },
     "execution_count": 3,
     "metadata": {},
     "output_type": "execute_result"
    }
   ],
   "source": [
    "apple_friction_df = apple_df[[\"friction\", \"success_rate\", \"max_contact_force\"]]\n",
    "apple_friction_df = apple_friction_df[apple_friction_df[\"friction\"].notna()]\n",
    "\n",
    "apple_friction_df.head(5)"
   ]
  },
  {
   "cell_type": "code",
   "execution_count": 4,
   "id": "188c028d8ddcc984",
   "metadata": {
    "ExecuteTime": {
     "end_time": "2025-07-14T20:38:35.442535Z",
     "start_time": "2025-07-14T20:38:35.414427Z"
    }
   },
   "outputs": [
    {
     "data": {
      "text/html": [
       "<div>\n",
       "<style scoped>\n",
       "    .dataframe tbody tr th:only-of-type {\n",
       "        vertical-align: middle;\n",
       "    }\n",
       "\n",
       "    .dataframe tbody tr th {\n",
       "        vertical-align: top;\n",
       "    }\n",
       "\n",
       "    .dataframe thead th {\n",
       "        text-align: right;\n",
       "    }\n",
       "</style>\n",
       "<table border=\"1\" class=\"dataframe\">\n",
       "  <thead>\n",
       "    <tr style=\"text-align: right;\">\n",
       "      <th></th>\n",
       "      <th>density</th>\n",
       "      <th>success_rate</th>\n",
       "      <th>max_contact_force</th>\n",
       "    </tr>\n",
       "  </thead>\n",
       "  <tbody>\n",
       "    <tr>\n",
       "      <th>28</th>\n",
       "      <td>250.0</td>\n",
       "      <td>0.021</td>\n",
       "      <td>-46790.01   -32336.695 -337051.</td>\n",
       "    </tr>\n",
       "    <tr>\n",
       "      <th>29</th>\n",
       "      <td>500.0</td>\n",
       "      <td>0.330</td>\n",
       "      <td>-4899.1016 -2077.0635 -5054.006</td>\n",
       "    </tr>\n",
       "    <tr>\n",
       "      <th>30</th>\n",
       "      <td>750.0</td>\n",
       "      <td>0.904</td>\n",
       "      <td>-4213.602    -368.75476 -6327.7495</td>\n",
       "    </tr>\n",
       "    <tr>\n",
       "      <th>31</th>\n",
       "      <td>1000.0</td>\n",
       "      <td>0.943</td>\n",
       "      <td>-10439.036  35085.066 -42888.297</td>\n",
       "    </tr>\n",
       "    <tr>\n",
       "      <th>32</th>\n",
       "      <td>1250.0</td>\n",
       "      <td>0.924</td>\n",
       "      <td>572.65094  -186.58418 -7793.7236</td>\n",
       "    </tr>\n",
       "  </tbody>\n",
       "</table>\n",
       "</div>"
      ],
      "text/plain": [
       "    density  success_rate                    max_contact_force\n",
       "28    250.0         0.021   -46790.01   -32336.695 -337051.   \n",
       "29    500.0         0.330     -4899.1016 -2077.0635 -5054.006 \n",
       "30    750.0         0.904  -4213.602    -368.75476 -6327.7495 \n",
       "31   1000.0         0.943     -10439.036  35085.066 -42888.297\n",
       "32   1250.0         0.924    572.65094  -186.58418 -7793.7236 "
      ]
     },
     "execution_count": 4,
     "metadata": {},
     "output_type": "execute_result"
    }
   ],
   "source": [
    "apple_density_df = apple_df[[\"density\", \"success_rate\", \"max_contact_force\"]]\n",
    "apple_density_df = apple_density_df[apple_density_df[\"density\"].notna()]\n",
    "\n",
    "apple_density_df.head(5)"
   ]
  },
  {
   "cell_type": "code",
   "execution_count": 5,
   "id": "fff3f196806a65da",
   "metadata": {
    "ExecuteTime": {
     "end_time": "2025-07-14T20:38:35.480852Z",
     "start_time": "2025-07-14T20:38:35.463653Z"
    }
   },
   "outputs": [
    {
     "data": {
      "text/html": [
       "<div>\n",
       "<style scoped>\n",
       "    .dataframe tbody tr th:only-of-type {\n",
       "        vertical-align: middle;\n",
       "    }\n",
       "\n",
       "    .dataframe tbody tr th {\n",
       "        vertical-align: top;\n",
       "    }\n",
       "\n",
       "    .dataframe thead th {\n",
       "        text-align: right;\n",
       "    }\n",
       "</style>\n",
       "<table border=\"1\" class=\"dataframe\">\n",
       "  <thead>\n",
       "    <tr style=\"text-align: right;\">\n",
       "      <th></th>\n",
       "      <th>center_of_mass</th>\n",
       "      <th>success_rate</th>\n",
       "      <th>max_contact_force</th>\n",
       "    </tr>\n",
       "  </thead>\n",
       "  <tbody>\n",
       "    <tr>\n",
       "      <th>44</th>\n",
       "      <td>0.0 0.0 0.0</td>\n",
       "      <td>0.753</td>\n",
       "      <td>-1716.2134 -5526.2026 -5233.8047</td>\n",
       "    </tr>\n",
       "    <tr>\n",
       "      <th>45</th>\n",
       "      <td>-0.03 0.03 0.03</td>\n",
       "      <td>0.775</td>\n",
       "      <td>-4534.057  9450.805 -5461.748</td>\n",
       "    </tr>\n",
       "    <tr>\n",
       "      <th>46</th>\n",
       "      <td>-0.03 -0.03 0.03</td>\n",
       "      <td>0.481</td>\n",
       "      <td>-3376.503  -2171.7695 -8992.715</td>\n",
       "    </tr>\n",
       "    <tr>\n",
       "      <th>47</th>\n",
       "      <td>-0.03 0.03 -0.03</td>\n",
       "      <td>0.797</td>\n",
       "      <td>-5102.1035 -2127.5461 -9273.305</td>\n",
       "    </tr>\n",
       "    <tr>\n",
       "      <th>48</th>\n",
       "      <td>0.03 -0.03 -0.03</td>\n",
       "      <td>0.806</td>\n",
       "      <td>-1417.4916 -5755.465  -8104.6704</td>\n",
       "    </tr>\n",
       "  </tbody>\n",
       "</table>\n",
       "</div>"
      ],
      "text/plain": [
       "      center_of_mass  success_rate                 max_contact_force\n",
       "44       0.0 0.0 0.0         0.753  -1716.2134 -5526.2026 -5233.8047\n",
       "45   -0.03 0.03 0.03         0.775     -4534.057  9450.805 -5461.748\n",
       "46  -0.03 -0.03 0.03         0.481  -3376.503  -2171.7695 -8992.715 \n",
       "47  -0.03 0.03 -0.03         0.797  -5102.1035 -2127.5461 -9273.305 \n",
       "48  0.03 -0.03 -0.03         0.806  -1417.4916 -5755.465  -8104.6704"
      ]
     },
     "execution_count": 5,
     "metadata": {},
     "output_type": "execute_result"
    }
   ],
   "source": [
    "apple_com_df = apple_df[[\"center_of_mass\", \"success_rate\", \"max_contact_force\"]]\n",
    "apple_com_df = apple_com_df[apple_com_df[\"center_of_mass\"].notna()]\n",
    "\n",
    "apple_com_df.head(5)"
   ]
  },
  {
   "cell_type": "code",
   "execution_count": 6,
   "id": "6ddc9be70accff9",
   "metadata": {
    "ExecuteTime": {
     "end_time": "2025-07-14T20:38:35.548911Z",
     "start_time": "2025-07-14T20:38:35.531550Z"
    }
   },
   "outputs": [
    {
     "data": {
      "text/html": [
       "<div>\n",
       "<style scoped>\n",
       "    .dataframe tbody tr th:only-of-type {\n",
       "        vertical-align: middle;\n",
       "    }\n",
       "\n",
       "    .dataframe tbody tr th {\n",
       "        vertical-align: top;\n",
       "    }\n",
       "\n",
       "    .dataframe thead th {\n",
       "        text-align: right;\n",
       "    }\n",
       "</style>\n",
       "<table border=\"1\" class=\"dataframe\">\n",
       "  <thead>\n",
       "    <tr style=\"text-align: right;\">\n",
       "      <th></th>\n",
       "      <th>scale</th>\n",
       "      <th>success_rate</th>\n",
       "      <th>max_contact_force</th>\n",
       "    </tr>\n",
       "  </thead>\n",
       "  <tbody>\n",
       "    <tr>\n",
       "      <th>159</th>\n",
       "      <td>0.50</td>\n",
       "      <td>0.000</td>\n",
       "      <td>-1552.6798  -732.3599   822.7758</td>\n",
       "    </tr>\n",
       "    <tr>\n",
       "      <th>160</th>\n",
       "      <td>0.75</td>\n",
       "      <td>0.014</td>\n",
       "      <td>-4243.5273   -804.8979 -11638.783</td>\n",
       "    </tr>\n",
       "    <tr>\n",
       "      <th>161</th>\n",
       "      <td>1.00</td>\n",
       "      <td>0.340</td>\n",
       "      <td>6105.6963   382.7815 -5309.227</td>\n",
       "    </tr>\n",
       "    <tr>\n",
       "      <th>162</th>\n",
       "      <td>1.25</td>\n",
       "      <td>0.921</td>\n",
       "      <td>-1198.5857  4477.4883 -7032.316</td>\n",
       "    </tr>\n",
       "    <tr>\n",
       "      <th>163</th>\n",
       "      <td>1.50</td>\n",
       "      <td>0.943</td>\n",
       "      <td>-10439.036  35085.06  -42888.297</td>\n",
       "    </tr>\n",
       "  </tbody>\n",
       "</table>\n",
       "</div>"
      ],
      "text/plain": [
       "     scale  success_rate                    max_contact_force\n",
       "159   0.50         0.000     -1552.6798  -732.3599   822.7758\n",
       "160   0.75         0.014   -4243.5273   -804.8979 -11638.783 \n",
       "161   1.00         0.340      6105.6963   382.7815 -5309.227 \n",
       "162   1.25         0.921     -1198.5857  4477.4883 -7032.316 \n",
       "163   1.50         0.943     -10439.036  35085.06  -42888.297"
      ]
     },
     "execution_count": 6,
     "metadata": {},
     "output_type": "execute_result"
    }
   ],
   "source": [
    "apple_scale_df = apple_df[[\"scale\", \"success_rate\", \"max_contact_force\"]]\n",
    "apple_scale_df = apple_scale_df[apple_scale_df[\"scale\"].notna()]\n",
    "\n",
    "apple_scale_df.head(5)"
   ]
  },
  {
   "cell_type": "code",
   "execution_count": 10,
   "id": "fc57223f",
   "metadata": {},
   "outputs": [
    {
     "data": {
      "text/html": [
       "<div>\n",
       "<style scoped>\n",
       "    .dataframe tbody tr th:only-of-type {\n",
       "        vertical-align: middle;\n",
       "    }\n",
       "\n",
       "    .dataframe tbody tr th {\n",
       "        vertical-align: top;\n",
       "    }\n",
       "\n",
       "    .dataframe thead th {\n",
       "        text-align: right;\n",
       "    }\n",
       "</style>\n",
       "<table border=\"1\" class=\"dataframe\">\n",
       "  <thead>\n",
       "    <tr style=\"text-align: right;\">\n",
       "      <th></th>\n",
       "      <th>friction</th>\n",
       "      <th>density</th>\n",
       "      <th>center_of_mass</th>\n",
       "      <th>scale</th>\n",
       "      <th>max_contact_force</th>\n",
       "      <th>success_rate</th>\n",
       "    </tr>\n",
       "  </thead>\n",
       "  <tbody>\n",
       "    <tr>\n",
       "      <th>39</th>\n",
       "      <td>NaN</td>\n",
       "      <td>12500.0</td>\n",
       "      <td>NaN</td>\n",
       "      <td>NaN</td>\n",
       "      <td>-5557.151  -3668.2913  1948.9912</td>\n",
       "      <td>0.500</td>\n",
       "    </tr>\n",
       "    <tr>\n",
       "      <th>40</th>\n",
       "      <td>NaN</td>\n",
       "      <td>15000.0</td>\n",
       "      <td>NaN</td>\n",
       "      <td>NaN</td>\n",
       "      <td>6507.2866 3335.9534 2263.8486</td>\n",
       "      <td>0.403</td>\n",
       "    </tr>\n",
       "    <tr>\n",
       "      <th>46</th>\n",
       "      <td>NaN</td>\n",
       "      <td>NaN</td>\n",
       "      <td>-0.03 -0.03 0.03</td>\n",
       "      <td>NaN</td>\n",
       "      <td>-3376.503  -2171.7695 -8992.715</td>\n",
       "      <td>0.481</td>\n",
       "    </tr>\n",
       "    <tr>\n",
       "      <th>52</th>\n",
       "      <td>NaN</td>\n",
       "      <td>NaN</td>\n",
       "      <td>-0.02 0.02 -0.02</td>\n",
       "      <td>NaN</td>\n",
       "      <td>-326.9819 -4067.8145 -6432.4336</td>\n",
       "      <td>0.445</td>\n",
       "    </tr>\n",
       "    <tr>\n",
       "      <th>62</th>\n",
       "      <td>NaN</td>\n",
       "      <td>NaN</td>\n",
       "      <td>-0.1 0.1 -0.1</td>\n",
       "      <td>NaN</td>\n",
       "      <td>-1259.1317 -2963.6062 -8394.7</td>\n",
       "      <td>0.485</td>\n",
       "    </tr>\n",
       "    <tr>\n",
       "      <th>88</th>\n",
       "      <td>NaN</td>\n",
       "      <td>NaN</td>\n",
       "      <td>0.0  -0.03  0.03</td>\n",
       "      <td>NaN</td>\n",
       "      <td>364.21884 -7764.659   -4848.899</td>\n",
       "      <td>0.444</td>\n",
       "    </tr>\n",
       "    <tr>\n",
       "      <th>99</th>\n",
       "      <td>NaN</td>\n",
       "      <td>NaN</td>\n",
       "      <td>0.05 -0.05  0.0</td>\n",
       "      <td>NaN</td>\n",
       "      <td>-4178.2954 -1505.2546 -5390.3594</td>\n",
       "      <td>0.580</td>\n",
       "    </tr>\n",
       "    <tr>\n",
       "      <th>135</th>\n",
       "      <td>NaN</td>\n",
       "      <td>NaN</td>\n",
       "      <td>0.05  0.0   0.0</td>\n",
       "      <td>NaN</td>\n",
       "      <td>-4824.305  -2195.5437 -7434.989</td>\n",
       "      <td>0.466</td>\n",
       "    </tr>\n",
       "    <tr>\n",
       "      <th>138</th>\n",
       "      <td>NaN</td>\n",
       "      <td>NaN</td>\n",
       "      <td>0.0  -0.05  0.0</td>\n",
       "      <td>NaN</td>\n",
       "      <td>-129.13017  -685.0344  -3971.8765</td>\n",
       "      <td>0.457</td>\n",
       "    </tr>\n",
       "    <tr>\n",
       "      <th>152</th>\n",
       "      <td>NaN</td>\n",
       "      <td>NaN</td>\n",
       "      <td>0.0   0.0  -0.50</td>\n",
       "      <td>NaN</td>\n",
       "      <td>-11955.304   -1433.9482   3018.395</td>\n",
       "      <td>0.502</td>\n",
       "    </tr>\n",
       "  </tbody>\n",
       "</table>\n",
       "</div>"
      ],
      "text/plain": [
       "    friction  density     center_of_mass  scale  \\\n",
       "39       NaN  12500.0                NaN    NaN   \n",
       "40       NaN  15000.0                NaN    NaN   \n",
       "46       NaN      NaN   -0.03 -0.03 0.03    NaN   \n",
       "52       NaN      NaN   -0.02 0.02 -0.02    NaN   \n",
       "62       NaN      NaN      -0.1 0.1 -0.1    NaN   \n",
       "88       NaN      NaN   0.0  -0.03  0.03    NaN   \n",
       "99       NaN      NaN    0.05 -0.05  0.0    NaN   \n",
       "135      NaN      NaN    0.05  0.0   0.0    NaN   \n",
       "138      NaN      NaN    0.0  -0.05  0.0    NaN   \n",
       "152      NaN      NaN   0.0   0.0  -0.50    NaN   \n",
       "\n",
       "                       max_contact_force  success_rate  \n",
       "39      -5557.151  -3668.2913  1948.9912         0.500  \n",
       "40         6507.2866 3335.9534 2263.8486         0.403  \n",
       "46      -3376.503  -2171.7695 -8992.715          0.481  \n",
       "52       -326.9819 -4067.8145 -6432.4336         0.445  \n",
       "62      -1259.1317 -2963.6062 -8394.7            0.485  \n",
       "88     364.21884 -7764.659   -4848.899           0.444  \n",
       "99      -4178.2954 -1505.2546 -5390.3594         0.580  \n",
       "135     -4824.305  -2195.5437 -7434.989          0.466  \n",
       "138   -129.13017  -685.0344  -3971.8765          0.457  \n",
       "152  -11955.304   -1433.9482   3018.395          0.502  "
      ]
     },
     "execution_count": 10,
     "metadata": {},
     "output_type": "execute_result"
    }
   ],
   "source": [
    "apple_df[(apple_df[\"success_rate\"] > 0.40) & (apple_df[\"success_rate\"] < 0.6)]"
   ]
  },
  {
   "cell_type": "code",
   "execution_count": null,
   "id": "13e59cc5c31adf10",
   "metadata": {
    "ExecuteTime": {
     "end_time": "2025-07-14T20:38:35.607514Z",
     "start_time": "2025-07-14T20:38:35.593196Z"
    }
   },
   "outputs": [],
   "source": [
    "def scatter_plot(title, points, x_label, y_label):\n",
    "    fig, ax = plt.subplots(figsize=(6, 4))\n",
    "    x, y = zip(*points)\n",
    "    ax.scatter(x, y, s=30, edgecolor='black', linewidth=0.5, alpha=0.8)\n",
    "    ax.set_title(title, fontsize=14, weight='bold', pad=12)\n",
    "    ax.set_xlabel(x_label, fontsize=12)\n",
    "    ax.set_ylabel(y_label, fontsize=12)\n",
    "    ax.grid(True, linestyle='--', linewidth=0.5, alpha=0.7)\n",
    "    ax.tick_params(axis='both', which='major', labelsize=10)\n",
    "    plt.tight_layout()\n",
    "    plt.show()\n",
    "\n",
    "\n",
    "def scatter_plot_3d(title, points, x_label, y_label, z_label, c_label=\"Success Rate\"):\n",
    "    fig = plt.figure(figsize=(24,8))\n",
    "    ax = fig.add_subplot(111, projection='3d')\n",
    "\n",
    "    x, y, z, c = zip(*points)\n",
    "\n",
    "    scatter = ax.scatter(x, y, z, c=c, cmap='viridis', s=30, edgecolor='black', linewidth=0.5, alpha=0.8)\n",
    "\n",
    "    ax.set_title(title, fontsize=14, weight='bold', pad=12)\n",
    "    ax.set_xlabel(x_label, fontsize=12)\n",
    "    ax.set_ylabel(y_label, fontsize=12)\n",
    "    ax.set_zlabel(z_label, fontsize=12)\n",
    "\n",
    "    fig.colorbar(scatter, ax=ax, label=c_label, shrink=0.6, aspect=12, pad=0.1)\n",
    "    ax.tick_params(axis='both', which='major', labelsize=10)\n",
    "    ax.grid(True, linestyle='--', linewidth=0.5, alpha=0.7)\n",
    "\n",
    "    plt.tight_layout()\n",
    "    plt.show()\n",
    "\n",
    "def play_video_jupyter(video_path, width=640, height=480, embed=True):\n",
    "    if not os.path.exists(video_path):\n",
    "        print(f\"Error: File not found: {video_path}\")\n",
    "        return\n",
    "    display(Video(video_path, width=width, height=height, embed=embed))"
   ]
  },
  {
   "cell_type": "code",
   "execution_count": null,
   "id": "bd9a6ebeb6d533ff",
   "metadata": {
    "ExecuteTime": {
     "end_time": "2025-07-14T20:38:35.622762Z",
     "start_time": "2025-07-14T20:38:35.614696Z"
    }
   },
   "outputs": [],
   "source": [
    "friction_points = map(lambda tup: (float(tup[0].split()[0]), float(tup[1])), apple_friction_df[[\"friction\", \"success_rate\"]].itertuples(index=False, name=None))\n",
    "friction_points = filter(lambda x: x[0] < 2.0 ,friction_points)"
   ]
  },
  {
   "cell_type": "code",
   "execution_count": null,
   "id": "fe47100acf7e975c",
   "metadata": {
    "ExecuteTime": {
     "end_time": "2025-07-14T20:38:36.325713Z",
     "start_time": "2025-07-14T20:38:35.674442Z"
    }
   },
   "outputs": [
    {
     "data": {
      "image/png": "[encoded data removed]",
      "text/plain": [
       "<Figure size 600x400 with 1 Axes>"
      ]
     },
     "metadata": {},
     "output_type": "display_data"
    }
   ],
   "source": [
    "scatter_plot(\"Friction vs Success Rate\", friction_points, \"Friction\", \"Success Rate\")"
   ]
  },
  {
   "cell_type": "code",
   "execution_count": null,
   "id": "7d9f3c0e4e46fa43",
   "metadata": {
    "ExecuteTime": {
     "end_time": "2025-07-14T20:38:36.346090Z",
     "start_time": "2025-07-14T20:38:36.338871Z"
    }
   },
   "outputs": [],
   "source": [
    "scale_points = map(lambda tup: (float(tup[0]), float(tup[1])), apple_scale_df[[\"scale\", \"success_rate\"]].itertuples(index=False, name=None))"
   ]
  },
  {
   "cell_type": "code",
   "execution_count": null,
   "id": "c3c4db64ea38f381",
   "metadata": {
    "ExecuteTime": {
     "end_time": "2025-07-14T20:38:36.755488Z",
     "start_time": "2025-07-14T20:38:36.355058Z"
    }
   },
   "outputs": [
    {
     "data": {
      "image/png": "[encoded data removed]",
      "text/plain": [
       "<Figure size 600x400 with 1 Axes>"
      ]
     },
     "metadata": {},
     "output_type": "display_data"
    }
   ],
   "source": [
    "scatter_plot(\"Scale vs Success Rate\", scale_points, \"Scale\", \"Success Rate\")"
   ]
  },
  {
   "cell_type": "code",
   "execution_count": null,
   "id": "489ad1ab5727fa25",
   "metadata": {
    "ExecuteTime": {
     "end_time": "2025-07-14T20:38:36.773619Z",
     "start_time": "2025-07-14T20:38:36.765753Z"
    }
   },
   "outputs": [],
   "source": [
    "density_points = map(lambda tup: (float(tup[0]), float(tup[1])), apple_density_df[[\"density\", \"success_rate\"]].itertuples(index=False, name=None))"
   ]
  },
  {
   "cell_type": "code",
   "execution_count": null,
   "id": "ae0f635fe54e7575",
   "metadata": {
    "ExecuteTime": {
     "end_time": "2025-07-14T20:38:37.127564Z",
     "start_time": "2025-07-14T20:38:36.824897Z"
    }
   },
   "outputs": [
    {
     "data": {
      "image/png": "[encoded data removed]",
      "text/plain": [
       "<Figure size 600x400 with 1 Axes>"
      ]
     },
     "metadata": {},
     "output_type": "display_data"
    }
   ],
   "source": [
    "scatter_plot(\"Density vs Success Rate\", density_points, \"Density\", \"Success Rate\")"
   ]
  },
  {
   "cell_type": "code",
   "execution_count": null,
   "id": "d90856cdc912f1c2",
   "metadata": {
    "ExecuteTime": {
     "end_time": "2025-07-14T20:38:37.440690Z",
     "start_time": "2025-07-14T20:38:37.138926Z"
    }
   },
   "outputs": [
    {
     "data": {
      "image/png": "[encoded data removed]",
      "text/plain": [
       "<Figure size 600x400 with 1 Axes>"
      ]
     },
     "metadata": {},
     "output_type": "display_data"
    }
   ],
   "source": [
    "original_com = np.array([0.00029322,  0.00045218, -0.00379098])\n",
    "com_points = map(lambda tup: (np.linalg.norm(np.array(list(map(float, tup[0].split()))) - original_com).astype(float), float(tup[1])), apple_com_df[[\"center_of_mass\", \"success_rate\"]].itertuples(index=False, name=None))\n",
    "\n",
    "com_points = filter(lambda tup: tup[0] < 0.5, com_points)\n",
    "scatter_plot(\"Center of Mass vs Success Rate\", com_points, \"Distance to original\", \"Success Rate\")"
   ]
  }
 ],
 "metadata": {
  "kernelspec": {
   "display_name": "vlm-dex",
   "language": "python",
   "name": "python3"
  },
  "language_info": {
   "codemirror_mode": {
    "name": "ipython",
    "version": 3
   },
   "file_extension": ".py",
   "mimetype": "text/x-python",
   "name": "python",
   "nbconvert_exporter": "python",
   "pygments_lexer": "ipython3",
   "version": "3.10.18"
  }
 },
 "nbformat": 4,
 "nbformat_minor": 5
}
