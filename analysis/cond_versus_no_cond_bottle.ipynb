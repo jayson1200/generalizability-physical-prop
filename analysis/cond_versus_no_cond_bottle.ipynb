{
 "cells": [
  {
   "cell_type": "code",
   "execution_count": 1,
   "id": "5f0aa5d1",
   "metadata": {},
   "outputs": [],
   "source": [
    "import pandas as pd\n",
    "import numpy as np"
   ]
  },
  {
   "cell_type": "code",
   "execution_count": 2,
   "id": "48e3d669",
   "metadata": {},
   "outputs": [
    {
     "data": {
      "text/html": [
       "<div>\n",
       "<style scoped>\n",
       "    .dataframe tbody tr th:only-of-type {\n",
       "        vertical-align: middle;\n",
       "    }\n",
       "\n",
       "    .dataframe tbody tr th {\n",
       "        vertical-align: top;\n",
       "    }\n",
       "\n",
       "    .dataframe thead th {\n",
       "        text-align: right;\n",
       "    }\n",
       "</style>\n",
       "<table border=\"1\" class=\"dataframe\">\n",
       "  <thead>\n",
       "    <tr style=\"text-align: right;\">\n",
       "      <th></th>\n",
       "      <th>Unnamed: 0</th>\n",
       "      <th>method</th>\n",
       "      <th>environment</th>\n",
       "      <th>success</th>\n",
       "      <th>num_envs</th>\n",
       "      <th>run_name</th>\n",
       "      <th>model_name</th>\n",
       "      <th>split</th>\n",
       "      <th>distribution</th>\n",
       "    </tr>\n",
       "  </thead>\n",
       "  <tbody>\n",
       "    <tr>\n",
       "      <th>0</th>\n",
       "      <td>0</td>\n",
       "      <td>scripted</td>\n",
       "      <td>EnvBottle-v0-phys-rand-with-cond</td>\n",
       "      <td>0.083008</td>\n",
       "      <td>1024</td>\n",
       "      <td>irrelevant</td>\n",
       "      <td>model_1999.pt</td>\n",
       "      <td>test</td>\n",
       "      <td>beta(a=6.1, b=50.0)</td>\n",
       "    </tr>\n",
       "    <tr>\n",
       "      <th>1</th>\n",
       "      <td>1</td>\n",
       "      <td>scripted</td>\n",
       "      <td>EnvBottle-v0-phys-rand</td>\n",
       "      <td>0.151367</td>\n",
       "      <td>1024</td>\n",
       "      <td>irrelevant</td>\n",
       "      <td>model_1999.pt</td>\n",
       "      <td>test</td>\n",
       "      <td>beta(a=6.1, b=50.0)</td>\n",
       "    </tr>\n",
       "    <tr>\n",
       "      <th>2</th>\n",
       "      <td>2</td>\n",
       "      <td>scripted</td>\n",
       "      <td>EnvBottle-v0-phys-rand-with-cond</td>\n",
       "      <td>0.083984</td>\n",
       "      <td>1024</td>\n",
       "      <td>irrelevant</td>\n",
       "      <td>model_1999.pt</td>\n",
       "      <td>test</td>\n",
       "      <td>beta(a=6.1, b=50.0)</td>\n",
       "    </tr>\n",
       "    <tr>\n",
       "      <th>3</th>\n",
       "      <td>3</td>\n",
       "      <td>scripted</td>\n",
       "      <td>EnvBottle-v0-phys-rand</td>\n",
       "      <td>0.132812</td>\n",
       "      <td>1024</td>\n",
       "      <td>irrelevant</td>\n",
       "      <td>model_1999.pt</td>\n",
       "      <td>test</td>\n",
       "      <td>beta(a=6.1, b=50.0)</td>\n",
       "    </tr>\n",
       "    <tr>\n",
       "      <th>4</th>\n",
       "      <td>4</td>\n",
       "      <td>scripted</td>\n",
       "      <td>EnvBottle-v0-phys-rand-with-cond</td>\n",
       "      <td>0.000000</td>\n",
       "      <td>1024</td>\n",
       "      <td>irrelevant</td>\n",
       "      <td>model_1999.pt</td>\n",
       "      <td>test</td>\n",
       "      <td>beta(a=50, b=6.1)</td>\n",
       "    </tr>\n",
       "    <tr>\n",
       "      <th>...</th>\n",
       "      <td>...</td>\n",
       "      <td>...</td>\n",
       "      <td>...</td>\n",
       "      <td>...</td>\n",
       "      <td>...</td>\n",
       "      <td>...</td>\n",
       "      <td>...</td>\n",
       "      <td>...</td>\n",
       "      <td>...</td>\n",
       "    </tr>\n",
       "    <tr>\n",
       "      <th>95</th>\n",
       "      <td>95</td>\n",
       "      <td>scripted</td>\n",
       "      <td>EnvBottle-v0-phys-rand</td>\n",
       "      <td>0.215820</td>\n",
       "      <td>1024</td>\n",
       "      <td>irrelevant</td>\n",
       "      <td>model_250.pt</td>\n",
       "      <td>test</td>\n",
       "      <td>beta(a=2.5, b=6.8)</td>\n",
       "    </tr>\n",
       "    <tr>\n",
       "      <th>96</th>\n",
       "      <td>96</td>\n",
       "      <td>scripted</td>\n",
       "      <td>EnvBottle-v0-phys-rand-with-cond</td>\n",
       "      <td>0.070312</td>\n",
       "      <td>1024</td>\n",
       "      <td>irrelevant</td>\n",
       "      <td>model_250.pt</td>\n",
       "      <td>train1</td>\n",
       "      <td>beta(a=2.5, b=1.9)</td>\n",
       "    </tr>\n",
       "    <tr>\n",
       "      <th>97</th>\n",
       "      <td>97</td>\n",
       "      <td>scripted</td>\n",
       "      <td>EnvBottle-v0-phys-rand</td>\n",
       "      <td>0.090820</td>\n",
       "      <td>1024</td>\n",
       "      <td>irrelevant</td>\n",
       "      <td>model_250.pt</td>\n",
       "      <td>train1</td>\n",
       "      <td>beta(a=2.5, b=1.9)</td>\n",
       "    </tr>\n",
       "    <tr>\n",
       "      <th>98</th>\n",
       "      <td>98</td>\n",
       "      <td>scripted</td>\n",
       "      <td>EnvBottle-v0-phys-rand-with-cond</td>\n",
       "      <td>0.083984</td>\n",
       "      <td>1024</td>\n",
       "      <td>irrelevant</td>\n",
       "      <td>model_250.pt</td>\n",
       "      <td>train1</td>\n",
       "      <td>beta(a=2.5, b=6.8)</td>\n",
       "    </tr>\n",
       "    <tr>\n",
       "      <th>99</th>\n",
       "      <td>99</td>\n",
       "      <td>scripted</td>\n",
       "      <td>EnvBottle-v0-phys-rand</td>\n",
       "      <td>0.220703</td>\n",
       "      <td>1024</td>\n",
       "      <td>irrelevant</td>\n",
       "      <td>model_250.pt</td>\n",
       "      <td>train1</td>\n",
       "      <td>beta(a=2.5, b=6.8)</td>\n",
       "    </tr>\n",
       "  </tbody>\n",
       "</table>\n",
       "<p>100 rows × 9 columns</p>\n",
       "</div>"
      ],
      "text/plain": [
       "    Unnamed: 0    method                       environment   success  \\\n",
       "0            0  scripted  EnvBottle-v0-phys-rand-with-cond  0.083008   \n",
       "1            1  scripted            EnvBottle-v0-phys-rand  0.151367   \n",
       "2            2  scripted  EnvBottle-v0-phys-rand-with-cond  0.083984   \n",
       "3            3  scripted            EnvBottle-v0-phys-rand  0.132812   \n",
       "4            4  scripted  EnvBottle-v0-phys-rand-with-cond  0.000000   \n",
       "..         ...       ...                               ...       ...   \n",
       "95          95  scripted            EnvBottle-v0-phys-rand  0.215820   \n",
       "96          96  scripted  EnvBottle-v0-phys-rand-with-cond  0.070312   \n",
       "97          97  scripted            EnvBottle-v0-phys-rand  0.090820   \n",
       "98          98  scripted  EnvBottle-v0-phys-rand-with-cond  0.083984   \n",
       "99          99  scripted            EnvBottle-v0-phys-rand  0.220703   \n",
       "\n",
       "    num_envs    run_name     model_name   split         distribution  \n",
       "0       1024  irrelevant  model_1999.pt    test  beta(a=6.1, b=50.0)  \n",
       "1       1024  irrelevant  model_1999.pt    test  beta(a=6.1, b=50.0)  \n",
       "2       1024  irrelevant  model_1999.pt    test  beta(a=6.1, b=50.0)  \n",
       "3       1024  irrelevant  model_1999.pt    test  beta(a=6.1, b=50.0)  \n",
       "4       1024  irrelevant  model_1999.pt    test    beta(a=50, b=6.1)  \n",
       "..       ...         ...            ...     ...                  ...  \n",
       "95      1024  irrelevant   model_250.pt    test   beta(a=2.5, b=6.8)  \n",
       "96      1024  irrelevant   model_250.pt  train1   beta(a=2.5, b=1.9)  \n",
       "97      1024  irrelevant   model_250.pt  train1   beta(a=2.5, b=1.9)  \n",
       "98      1024  irrelevant   model_250.pt  train1   beta(a=2.5, b=6.8)  \n",
       "99      1024  irrelevant   model_250.pt  train1   beta(a=2.5, b=6.8)  \n",
       "\n",
       "[100 rows x 9 columns]"
      ]
     },
     "execution_count": 2,
     "metadata": {},
     "output_type": "execute_result"
    }
   ],
   "source": [
    "bottle_csv_path = \"/iliad/u/jmeribe/projects/vlm-scaffolding/tracking_results_bottle_with_my_policies.csv\"\n",
    "bottle_csv_with_base = \"/iliad/u/jmeribe/projects/vlm-scaffolding/tracking_results_bottle_with_vincent_policies.csv\"\n",
    "\n",
    "bottle_df = pd.read_csv(bottle_csv_path)\n",
    "\n",
    "bottle_df"
   ]
  },
  {
   "cell_type": "code",
   "execution_count": 3,
   "id": "061c86c1",
   "metadata": {},
   "outputs": [],
   "source": [
    "# bottle_df_with_base = pd.read_csv(bottle_csv_with_base)"
   ]
  },
  {
   "cell_type": "markdown",
   "id": "41ebd408",
   "metadata": {},
   "source": [
    "# General Performance: \n",
    "### conditioned policy narrowly wins\n",
    "### original policy loses by 100%"
   ]
  },
  {
   "cell_type": "code",
   "execution_count": 4,
   "id": "8cf64bb7",
   "metadata": {},
   "outputs": [
    {
     "data": {
      "text/plain": [
       "0.1254296875"
      ]
     },
     "execution_count": 4,
     "metadata": {},
     "output_type": "execute_result"
    }
   ],
   "source": [
    "valid_bottle_no_cond_df = bottle_df[(bottle_df['num_envs'] > 1000) & (bottle_df[\"environment\"] == \"EnvBottle-v0-phys-rand\")][\"success\"]\n",
    "\n",
    "general_no_cond = valid_bottle_no_cond_df.to_numpy().mean()\n",
    "general_no_cond"
   ]
  },
  {
   "cell_type": "code",
   "execution_count": 5,
   "id": "208cdbfe",
   "metadata": {},
   "outputs": [
    {
     "data": {
      "text/plain": [
       "0.106015625"
      ]
     },
     "execution_count": 5,
     "metadata": {},
     "output_type": "execute_result"
    }
   ],
   "source": [
    "valid_bottle_cond_df = bottle_df[(bottle_df['num_envs'] > 1000) & (bottle_df[\"environment\"] == \"EnvBottle-v0-phys-rand-with-cond\")][\"success\"]\n",
    "\n",
    "general_cond = valid_bottle_cond_df.to_numpy().mean()\n",
    "general_cond"
   ]
  },
  {
   "cell_type": "code",
   "execution_count": 6,
   "id": "d2a00528",
   "metadata": {},
   "outputs": [],
   "source": [
    "# bottle_df_vincent = bottle_df_with_base[(bottle_df_with_base['num_envs'] > 1000)][\"success\"]\n",
    "\n",
    "# general_no_cond_vincent = bottle_df_vincent.to_numpy().mean()\n",
    "# general_no_cond_vincent"
   ]
  },
  {
   "cell_type": "markdown",
   "id": "bb7ad100",
   "metadata": {},
   "source": [
    "# Performance Across Different Epochs\n",
    "### conditioned policy loses 2/5"
   ]
  },
  {
   "cell_type": "code",
   "execution_count": 7,
   "id": "32b00583",
   "metadata": {},
   "outputs": [
    {
     "data": {
      "text/plain": [
       "array(['model_1999.pt', 'model_1750.pt', 'model_1250.pt', 'model_750.pt',\n",
       "       'model_250.pt'], dtype=object)"
      ]
     },
     "execution_count": 7,
     "metadata": {},
     "output_type": "execute_result"
    }
   ],
   "source": [
    "epoch_names = bottle_df[\"model_name\"].unique()\n",
    "epoch_names"
   ]
  },
  {
   "cell_type": "code",
   "execution_count": 8,
   "id": "2afa5606",
   "metadata": {},
   "outputs": [
    {
     "data": {
      "text/plain": [
       "{'model_1999.pt': 0.12451171875,\n",
       " 'model_1750.pt': 0.176171875,\n",
       " 'model_1250.pt': 0.0904296875,\n",
       " 'model_750.pt': 0.08876953125,\n",
       " 'model_250.pt': 0.0501953125}"
      ]
     },
     "execution_count": 8,
     "metadata": {},
     "output_type": "execute_result"
    }
   ],
   "source": [
    "epoch_perf_cond = []\n",
    "epoch_perf_no_cond = []\n",
    "\n",
    "for epoch in epoch_names:\n",
    "    epoch_perf_cond.append(\n",
    "        bottle_df[(bottle_df['num_envs'] > 1000) & (bottle_df[\"environment\"] == \"EnvBottle-v0-phys-rand-with-cond\") & (bottle_df[\"model_name\"] == epoch)][\"success\"].to_numpy().mean()\n",
    "    )\n",
    "    epoch_perf_no_cond.append(\n",
    "        bottle_df[(bottle_df['num_envs'] > 1000) & (bottle_df[\"environment\"] == \"EnvBottle-v0-phys-rand\") & (bottle_df[\"model_name\"] == epoch)][\"success\"].to_numpy().mean()\n",
    "    )\n",
    "\n",
    "epoch_dict_cond = dict(zip(epoch_names, epoch_perf_cond))\n",
    "\n",
    "epoch_dict_cond"
   ]
  },
  {
   "cell_type": "code",
   "execution_count": 9,
   "id": "decf0bb4",
   "metadata": {},
   "outputs": [
    {
     "data": {
      "text/plain": [
       "{'model_1999.pt': 0.186328125,\n",
       " 'model_1750.pt': 0.14443359375,\n",
       " 'model_1250.pt': 0.12353515625,\n",
       " 'model_750.pt': 0.09521484375,\n",
       " 'model_250.pt': 0.07763671875}"
      ]
     },
     "execution_count": 9,
     "metadata": {},
     "output_type": "execute_result"
    }
   ],
   "source": [
    "epoch_dict_un_cond = dict(zip(epoch_names, epoch_perf_no_cond))\n",
    "\n",
    "epoch_dict_un_cond"
   ]
  },
  {
   "cell_type": "code",
   "execution_count": 10,
   "id": "3b6aa0f2",
   "metadata": {},
   "outputs": [
    {
     "name": "stdout",
     "output_type": "stream",
     "text": [
      "1/5\n"
     ]
    }
   ],
   "source": [
    "wins = 0\n",
    "games = 0\n",
    "\n",
    "for key, value in epoch_dict_cond.items():\n",
    "    wins += 1 if value > epoch_dict_un_cond[key] else 0\n",
    "    games += 1\n",
    "\n",
    "print(f\"{wins}/{games}\")"
   ]
  },
  {
   "cell_type": "markdown",
   "id": "defb4904",
   "metadata": {},
   "source": [
    "# Train and Test\n",
    "### Conditioned policy wins on train loses on test"
   ]
  },
  {
   "cell_type": "code",
   "execution_count": 11,
   "id": "34de2f71",
   "metadata": {
    "vscode": {
     "languageId": "ruby"
    }
   },
   "outputs": [
    {
     "data": {
      "text/plain": [
       "{'train1': 0.11430220170454546, 'test': 0.09950474330357142}"
      ]
     },
     "execution_count": 11,
     "metadata": {},
     "output_type": "execute_result"
    }
   ],
   "source": [
    "dataset_perf_cond = []\n",
    "dataset_perf_no_cond = []\n",
    "\n",
    "datasets = [\"train1\", \"test\"]\n",
    "\n",
    "for dataset in datasets:\n",
    "    dataset_perf_cond.append(\n",
    "        bottle_df[(bottle_df['num_envs'] > 1000) & (bottle_df[\"environment\"] == \"EnvBottle-v0-phys-rand-with-cond\") & (bottle_df[\"split\"] == dataset)][\"success\"].to_numpy().mean()\n",
    "    )\n",
    "    dataset_perf_no_cond.append(\n",
    "        bottle_df[(bottle_df['num_envs'] > 1000) & (bottle_df[\"environment\"] == \"EnvBottle-v0-phys-rand\") & (bottle_df[\"split\"] == dataset)][\"success\"].to_numpy().mean()\n",
    "    )\n",
    "\n",
    "dict(zip(datasets, dataset_perf_cond))"
   ]
  },
  {
   "cell_type": "code",
   "execution_count": 12,
   "id": "80db6a91",
   "metadata": {
    "vscode": {
     "languageId": "ruby"
    }
   },
   "outputs": [
    {
     "data": {
      "text/plain": [
       "{'train1': 0.13303444602272727, 'test': 0.11945452008928571}"
      ]
     },
     "execution_count": 12,
     "metadata": {},
     "output_type": "execute_result"
    }
   ],
   "source": [
    "dict(zip(datasets, dataset_perf_no_cond))"
   ]
  },
  {
   "cell_type": "markdown",
   "id": "868c4c3c",
   "metadata": {},
   "source": [
    "# Distribution\n",
    "### Conditioned policy loses 1/5"
   ]
  },
  {
   "cell_type": "code",
   "execution_count": 13,
   "id": "1585478d",
   "metadata": {
    "vscode": {
     "languageId": "ruby"
    }
   },
   "outputs": [
    {
     "data": {
      "text/plain": [
       "array(['beta(a=6.1, b=50.0)', 'beta(a=50, b=6.1)', 'beta(a=50, b=50)',\n",
       "       'beta(a=2.5, b=1.9)', 'beta(a=2.5, b=6.8)'], dtype=object)"
      ]
     },
     "execution_count": 13,
     "metadata": {},
     "output_type": "execute_result"
    }
   ],
   "source": [
    "distribution_names = bottle_df[\"distribution\"].unique()\n",
    "distribution_names"
   ]
  },
  {
   "cell_type": "code",
   "execution_count": 14,
   "id": "046f460e",
   "metadata": {
    "vscode": {
     "languageId": "ruby"
    }
   },
   "outputs": [],
   "source": [
    "distribution_perf_cond = []\n",
    "distribution_perf_no_cond = []\n",
    "\n",
    "for distribution in distribution_names:\n",
    "    distribution_perf_cond.append(\n",
    "        bottle_df[(bottle_df['num_envs'] > 1000) & (bottle_df[\"environment\"] == \"EnvBottle-v0-phys-rand-with-cond\") & (bottle_df[\"distribution\"] == distribution)][\"success\"].to_numpy().mean()\n",
    "    )\n",
    "    distribution_perf_no_cond.append(\n",
    "        bottle_df[(bottle_df['num_envs'] > 1000) & (bottle_df[\"environment\"] == \"EnvBottle-v0-phys-rand\") & (bottle_df[\"distribution\"] == distribution)][\"success\"].to_numpy().mean()\n",
    "    )\n",
    "\n",
    "distribution_dict_cond =  dict(zip(distribution_names, distribution_perf_cond))"
   ]
  },
  {
   "cell_type": "code",
   "execution_count": 15,
   "id": "9bf208d7",
   "metadata": {
    "vscode": {
     "languageId": "ruby"
    }
   },
   "outputs": [],
   "source": [
    "distribution_dict_un_cond = dict(zip(distribution_names, distribution_perf_no_cond))"
   ]
  },
  {
   "cell_type": "code",
   "execution_count": 16,
   "id": "0918310a",
   "metadata": {
    "vscode": {
     "languageId": "ruby"
    }
   },
   "outputs": [
    {
     "name": "stdout",
     "output_type": "stream",
     "text": [
      "1/5\n"
     ]
    }
   ],
   "source": [
    "wins = 0\n",
    "games = 0\n",
    "\n",
    "for key, value in distribution_dict_cond.items():\n",
    "    wins += 1 if value > distribution_dict_un_cond[key] else 0\n",
    "    games += 1\n",
    "\n",
    "print(f\"{wins}/{games}\")"
   ]
  },
  {
   "cell_type": "markdown",
   "id": "e6e04237",
   "metadata": {},
   "source": [
    "# Conclusions\n",
    "1. On basically every hyperparameter set when we don't condition the policy on the physical parameters of object being manipulated we perform better.\n",
    "\n",
    "2. This doesn't make sense as we would expect the unconditioned policy to act as a lower bound for the performance of the conditioned policy.\n",
    "\n",
    "3. However, when we compare average train and test performance we see that the conditioned policy performs better on train set and worse on the test set.\n",
    "\n",
    "4. Indicating, that the conditioned policy is probably overfitting and may just be harder to train, given the setup.\n",
    "\n",
    "5. Addtionally, the slim margins and generally low performance that we observe indicate that the scaffolding framework is not effective for tasks with high entropy physical property distributions or tasks where physicaly properties are important for performance, because it does not seem like it is effectively using them in this case."
   ]
  }
 ],
 "metadata": {
  "kernelspec": {
   "display_name": "vlm-dex",
   "language": "python",
   "name": "python3"
  },
  "language_info": {
   "codemirror_mode": {
    "name": "ipython",
    "version": 3
   },
   "file_extension": ".py",
   "mimetype": "text/x-python",
   "name": "python",
   "nbconvert_exporter": "python",
   "pygments_lexer": "ipython3",
   "version": "3.10.18"
  }
 },
 "nbformat": 4,
 "nbformat_minor": 5
}
